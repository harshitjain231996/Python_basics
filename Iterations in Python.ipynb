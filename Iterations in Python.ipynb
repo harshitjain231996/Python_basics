{
 "cells": [
  {
   "cell_type": "markdown",
   "metadata": {},
   "source": [
    "# Iterations\n",
    "Ability to execute a certain code repeatedly."
   ]
  },
  {
   "cell_type": "code",
   "execution_count": 1,
   "metadata": {},
   "outputs": [],
   "source": [
    "even = [0,2,4,6,8,10,12,14,16,18,20]"
   ]
  },
  {
   "cell_type": "code",
   "execution_count": 4,
   "metadata": {},
   "outputs": [
    {
     "name": "stdout",
     "output_type": "stream",
     "text": [
      "0\n",
      "2\n",
      "4\n",
      "6\n",
      "8\n",
      "10\n",
      "12\n",
      "14\n",
      "16\n",
      "18\n",
      "20\n"
     ]
    }
   ],
   "source": [
    "for n in even : # Here n is called the loop variable\n",
    "    print(n)"
   ]
  },
  {
   "cell_type": "code",
   "execution_count": 9,
   "metadata": {},
   "outputs": [
    {
     "name": "stdout",
     "output_type": "stream",
     "text": [
      "(0,)\n",
      "(2,)\n",
      "(4,)\n",
      "(6,)\n",
      "(8,)\n",
      "(10,)\n",
      "(12,)\n",
      "(14,)\n",
      "(16,)\n",
      "(18,)\n",
      "(20,)\n"
     ]
    }
   ],
   "source": [
    "for n in even:\n",
    "    j = n,\n",
    "    print (j)"
   ]
  },
  {
   "cell_type": "code",
   "execution_count": 11,
   "metadata": {},
   "outputs": [
    {
     "name": "stdout",
     "output_type": "stream",
     "text": [
      "0\n",
      "2\n",
      "4\n",
      "6\n",
      "8\n",
      "10\n",
      "12\n",
      "14\n",
      "16\n",
      "18\n",
      "20\n"
     ]
    }
   ],
   "source": [
    "x = 0 # Using while loop. Had we not incremented x or performed any change to x, it would have caused the loop to be an infinite loop and the computer would crash in such cases.\n",
    "while x<=20:\n",
    "    print (x)\n",
    "    x+=2"
   ]
  },
  {
   "cell_type": "markdown",
   "metadata": {},
   "source": [
    "# Creating lists with range function\n",
    "range(start,stop,step) :\n",
    "1. start - first value in the list. Optional input. If not mentioned, by default it is to be taken as 0.\n",
    "2. stop - last value + 1. It is a required input. Most imp.\n",
    "3. step - distance between two consecutive values. Optional input. If not mentioned, by default it is to be taken as 1."
   ]
  },
  {
   "cell_type": "code",
   "execution_count": null,
   "metadata": {},
   "outputs": [],
   "source": []
  }
 ],
 "metadata": {
  "kernelspec": {
   "display_name": "Python 3",
   "language": "python",
   "name": "python3"
  },
  "language_info": {
   "codemirror_mode": {
    "name": "ipython",
    "version": 3
   },
   "file_extension": ".py",
   "mimetype": "text/x-python",
   "name": "python",
   "nbconvert_exporter": "python",
   "pygments_lexer": "ipython3",
   "version": "3.7.4"
  }
 },
 "nbformat": 4,
 "nbformat_minor": 2
}
